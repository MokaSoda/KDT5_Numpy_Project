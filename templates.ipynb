{
 "cells": [
  {
   "cell_type": "markdown",
   "source": [
    "## 사용할 모듈 미리 로딩"
   ],
   "metadata": {
    "collapsed": false
   },
   "id": "2b7f2e244a0f9720"
  },
  {
   "cell_type": "code",
   "execution_count": 1,
   "id": "ff2517772120d0c9",
   "metadata": {
    "collapsed": false,
    "ExecuteTime": {
     "end_time": "2024-02-21T07:35:20.618312Z",
     "start_time": "2024-02-21T07:35:19.117177900Z"
    }
   },
   "outputs": [
    {
     "name": "stderr",
     "output_type": "stream",
     "text": [
      "C:\\Users\\kdp\\AppData\\Local\\Temp\\ipykernel_19004\\3797284980.py:1: DeprecationWarning: \n",
      "Pyarrow will become a required dependency of pandas in the next major release of pandas (pandas 3.0),\n",
      "(to allow more performant data types, such as the Arrow string type, and better interoperability with other libraries)\n",
      "but was not found to be installed on your system.\n",
      "If this would cause problems for you,\n",
      "please provide us feedback at https://github.com/pandas-dev/pandas/issues/54466\n",
      "        \n",
      "  import pandas as pd\n"
     ]
    }
   ],
   "source": [
    "import pandas as pd\n",
    "import requests\n",
    "import matplotlib.pyplot as plt\n",
    "import matplotlib as mpl\n",
    "from bs4 import BeautifulSoup\n",
    "from konlpy.tag import Okt\n",
    "from collections import Counter\n",
    "from wordcloud import WordCloud\n",
    "import time\n",
    "import platform\n",
    "import numpy as np\n",
    "import random\n",
    "import os\n",
    "import shutil\n",
    "from PIL import Image\n",
    "import collections\n",
    "if not hasattr(collections, 'Callable'):\n",
    "    collections.Callable = collections.abc.Callable\n",
    "\n",
    "\n",
    "from sqlalchemy.sql import text as Text\n",
    "from sqlalchemy import create_engine\n",
    "from sqlalchemy import engine"
   ]
  },
  {
   "cell_type": "markdown",
   "source": [
    "## 데이터베이스(선택) 및 유저 에이전트"
   ],
   "metadata": {
    "collapsed": false
   },
   "id": "6277347331870f30"
  },
  {
   "cell_type": "code",
   "outputs": [
    {
     "data": {
      "text/plain": "           Date         IBM        AAPL        MSFT        XRX        AMZN  \\\n0    1990-01-01   10.970438    0.242512    0.403759  11.202082         NaN   \n1    1990-02-01   11.554416    0.242512    0.431040  10.394725         NaN   \n2    1990-02-05         NaN         NaN         NaN        NaN         NaN   \n3    1990-03-01   11.951694    0.288017    0.483420  11.394058         NaN   \n4    1990-04-01   12.275476    0.281756    0.506336  10.139430         NaN   \n..          ...         ...         ...         ...        ...         ...   \n519  2022-04-01  130.625442  157.418701  276.875122  17.400000  124.281502   \n520  2022-05-01  137.175980  148.621628  271.238251  18.820000  120.209503   \n521  2022-05-09         NaN         NaN         NaN        NaN         NaN   \n522  2022-06-01  141.860001  137.440002  256.480011  15.820000  107.400002   \n523  2022-06-28  141.860001  137.440002  256.480011  15.820000  107.400002   \n\n            DELL        GOOGL        ADBE        ^GSPC         ^IXIC  \n0           None          NaN    1.379061   329.079987    415.799988  \n1           None          NaN    1.779084   331.890015    425.799988  \n2           None          NaN         NaN          NaN           NaN  \n3           None          NaN    2.234883   339.940002    435.500000  \n4           None          NaN    2.253145   330.799988    420.100006  \n..           ...          ...         ...          ...           ...  \n519  46.68299103  2282.189941  395.950012  4131.930176  12334.639650  \n520  49.93999863  2275.239990  416.480011  4132.149902  12081.389650  \n521         None          NaN         NaN          NaN           NaN  \n522  48.93999863  2240.149902  365.630005  3821.550049  11181.540040  \n523  48.93999863  2240.149902  365.630005  3821.550049  11181.540040  \n\n[524 rows x 11 columns]",
      "text/html": "<div>\n<style scoped>\n    .dataframe tbody tr th:only-of-type {\n        vertical-align: middle;\n    }\n\n    .dataframe tbody tr th {\n        vertical-align: top;\n    }\n\n    .dataframe thead th {\n        text-align: right;\n    }\n</style>\n<table border=\"1\" class=\"dataframe\">\n  <thead>\n    <tr style=\"text-align: right;\">\n      <th></th>\n      <th>Date</th>\n      <th>IBM</th>\n      <th>AAPL</th>\n      <th>MSFT</th>\n      <th>XRX</th>\n      <th>AMZN</th>\n      <th>DELL</th>\n      <th>GOOGL</th>\n      <th>ADBE</th>\n      <th>^GSPC</th>\n      <th>^IXIC</th>\n    </tr>\n  </thead>\n  <tbody>\n    <tr>\n      <th>0</th>\n      <td>1990-01-01</td>\n      <td>10.970438</td>\n      <td>0.242512</td>\n      <td>0.403759</td>\n      <td>11.202082</td>\n      <td>NaN</td>\n      <td>None</td>\n      <td>NaN</td>\n      <td>1.379061</td>\n      <td>329.079987</td>\n      <td>415.799988</td>\n    </tr>\n    <tr>\n      <th>1</th>\n      <td>1990-02-01</td>\n      <td>11.554416</td>\n      <td>0.242512</td>\n      <td>0.431040</td>\n      <td>10.394725</td>\n      <td>NaN</td>\n      <td>None</td>\n      <td>NaN</td>\n      <td>1.779084</td>\n      <td>331.890015</td>\n      <td>425.799988</td>\n    </tr>\n    <tr>\n      <th>2</th>\n      <td>1990-02-05</td>\n      <td>NaN</td>\n      <td>NaN</td>\n      <td>NaN</td>\n      <td>NaN</td>\n      <td>NaN</td>\n      <td>None</td>\n      <td>NaN</td>\n      <td>NaN</td>\n      <td>NaN</td>\n      <td>NaN</td>\n    </tr>\n    <tr>\n      <th>3</th>\n      <td>1990-03-01</td>\n      <td>11.951694</td>\n      <td>0.288017</td>\n      <td>0.483420</td>\n      <td>11.394058</td>\n      <td>NaN</td>\n      <td>None</td>\n      <td>NaN</td>\n      <td>2.234883</td>\n      <td>339.940002</td>\n      <td>435.500000</td>\n    </tr>\n    <tr>\n      <th>4</th>\n      <td>1990-04-01</td>\n      <td>12.275476</td>\n      <td>0.281756</td>\n      <td>0.506336</td>\n      <td>10.139430</td>\n      <td>NaN</td>\n      <td>None</td>\n      <td>NaN</td>\n      <td>2.253145</td>\n      <td>330.799988</td>\n      <td>420.100006</td>\n    </tr>\n    <tr>\n      <th>...</th>\n      <td>...</td>\n      <td>...</td>\n      <td>...</td>\n      <td>...</td>\n      <td>...</td>\n      <td>...</td>\n      <td>...</td>\n      <td>...</td>\n      <td>...</td>\n      <td>...</td>\n      <td>...</td>\n    </tr>\n    <tr>\n      <th>519</th>\n      <td>2022-04-01</td>\n      <td>130.625442</td>\n      <td>157.418701</td>\n      <td>276.875122</td>\n      <td>17.400000</td>\n      <td>124.281502</td>\n      <td>46.68299103</td>\n      <td>2282.189941</td>\n      <td>395.950012</td>\n      <td>4131.930176</td>\n      <td>12334.639650</td>\n    </tr>\n    <tr>\n      <th>520</th>\n      <td>2022-05-01</td>\n      <td>137.175980</td>\n      <td>148.621628</td>\n      <td>271.238251</td>\n      <td>18.820000</td>\n      <td>120.209503</td>\n      <td>49.93999863</td>\n      <td>2275.239990</td>\n      <td>416.480011</td>\n      <td>4132.149902</td>\n      <td>12081.389650</td>\n    </tr>\n    <tr>\n      <th>521</th>\n      <td>2022-05-09</td>\n      <td>NaN</td>\n      <td>NaN</td>\n      <td>NaN</td>\n      <td>NaN</td>\n      <td>NaN</td>\n      <td>None</td>\n      <td>NaN</td>\n      <td>NaN</td>\n      <td>NaN</td>\n      <td>NaN</td>\n    </tr>\n    <tr>\n      <th>522</th>\n      <td>2022-06-01</td>\n      <td>141.860001</td>\n      <td>137.440002</td>\n      <td>256.480011</td>\n      <td>15.820000</td>\n      <td>107.400002</td>\n      <td>48.93999863</td>\n      <td>2240.149902</td>\n      <td>365.630005</td>\n      <td>3821.550049</td>\n      <td>11181.540040</td>\n    </tr>\n    <tr>\n      <th>523</th>\n      <td>2022-06-28</td>\n      <td>141.860001</td>\n      <td>137.440002</td>\n      <td>256.480011</td>\n      <td>15.820000</td>\n      <td>107.400002</td>\n      <td>48.93999863</td>\n      <td>2240.149902</td>\n      <td>365.630005</td>\n      <td>3821.550049</td>\n      <td>11181.540040</td>\n    </tr>\n  </tbody>\n</table>\n<p>524 rows × 11 columns</p>\n</div>"
     },
     "execution_count": 9,
     "metadata": {},
     "output_type": "execute_result"
    }
   ],
   "source": [
    "\n",
    "header = {\n",
    "    'User-Agent': 'Mozilla/5.0 (Windows NT 10.0; Win64; x64) AppleWebKit/537.36 (KHTML, like Gecko) Chrome/91.0.4472.124 Safari/537.36'\n",
    "}\n",
    "\n",
    "sqlinfo = engine.URL.create(\n",
    "    drivername='mysql+pymysql',\n",
    "    username = 'KMS',\n",
    "    password = '1234Q1@',\n",
    "    database = 'numpyproject',\n",
    "    query = {'charset':'utf8mb4'},\n",
    "    host = \"114.201.240.47\",\n",
    "    port = 33063,\n",
    ")\n",
    "\n",
    "conn = create_engine(sqlinfo,connect_args={'ssl':{\"fake_flag_to_enable_tls\":True}})\n",
    "# cur 사용시 Text 로 쿼리문을 묶어 사용\n",
    "# cur = conn.connect()\n",
    "# result = cur.execute(Text('select * from Stocks_Test'))\n",
    "# for row in result.fetchall():\n",
    "#     print(row)\n"
   ],
   "metadata": {
    "collapsed": true,
    "ExecuteTime": {
     "end_time": "2024-02-21T05:58:09.550827300Z",
     "start_time": "2024-02-21T05:58:09.237161400Z"
    }
   },
   "id": "initial_id",
   "execution_count": 9
  },
  {
   "cell_type": "markdown",
   "source": [
    "## 폰트 설정"
   ],
   "metadata": {
    "collapsed": false
   },
   "id": "bf378640b56b994d"
  },
  {
   "cell_type": "code",
   "outputs": [],
   "source": [
    "mpl.rc('font', family='Malgun Gothic')\n"
   ],
   "metadata": {
    "collapsed": false,
    "ExecuteTime": {
     "end_time": "2024-02-21T05:58:48.992853700Z",
     "start_time": "2024-02-21T05:58:48.973415Z"
    }
   },
   "id": "95155773cccd77d",
   "execution_count": 10
  },
  {
   "cell_type": "markdown",
   "source": [
    "## sql 판다스 연동하기"
   ],
   "metadata": {
    "collapsed": false
   },
   "id": "416d4db3c3fc41d8"
  },
  {
   "cell_type": "code",
   "outputs": [],
   "source": [
    "# 해당 구문을 활용하여 sql 에서 읽어보세요\n",
    "# pd.read_sql('select * from Stocks_Test', conn)"
   ],
   "metadata": {
    "collapsed": false,
    "ExecuteTime": {
     "end_time": "2024-02-21T05:59:51.306242500Z",
     "start_time": "2024-02-21T05:59:51.298367800Z"
    }
   },
   "id": "6cb2082d411acfbc",
   "execution_count": 12
  },
  {
   "cell_type": "code",
   "outputs": [
    {
     "data": {
      "text/plain": "69"
     },
     "execution_count": 18,
     "metadata": {},
     "output_type": "execute_result"
    }
   ],
   "source": [
    "# 해당 구문을 활용하여 sql로 전송해주세요\n",
    "# sqldf = pd.read_sql('select * from Stocks_Test', conn)\n",
    "# sqldf.to_sql('editors_copied'+str(random.randint(100,1000)), conn, if_exists='replace', index=False)"
   ],
   "metadata": {
    "collapsed": false,
    "ExecuteTime": {
     "end_time": "2024-02-14T04:30:44.619091300Z",
     "start_time": "2024-02-14T04:30:42.154740600Z"
    }
   },
   "id": "c1e81452f6c05cce",
   "execution_count": 18
  }
 ],
 "metadata": {
  "kernelspec": {
   "display_name": "Python 3",
   "language": "python",
   "name": "python3"
  },
  "language_info": {
   "codemirror_mode": {
    "name": "ipython",
    "version": 2
   },
   "file_extension": ".py",
   "mimetype": "text/x-python",
   "name": "python",
   "nbconvert_exporter": "python",
   "pygments_lexer": "ipython2",
   "version": "2.7.6"
  }
 },
 "nbformat": 4,
 "nbformat_minor": 5
}
