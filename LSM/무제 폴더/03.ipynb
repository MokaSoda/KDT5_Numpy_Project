{
 "cells": [
  {
   "cell_type": "code",
   "execution_count": null,
   "id": "initial_id",
   "metadata": {
    "collapsed": true
   },
   "outputs": [],
   "source": []
  },
  {
   "cell_type": "code",
   "outputs": [
    {
     "ename": "ValueError",
     "evalue": "time data \"\t\" doesn't match format \"\t%Y-%m-%d\", at position 42030. You might want to try:\n    - passing `format` if your strings have a consistent format;\n    - passing `format='ISO8601'` if your strings are all ISO8601 but not necessarily in exactly the same format;\n    - passing `format='mixed'`, and the format will be inferred for each element individually. You might want to use `dayfirst` alongside this.",
     "output_type": "error",
     "traceback": [
      "\u001B[0;31m---------------------------------------------------------------------------\u001B[0m",
      "\u001B[0;31mValueError\u001B[0m                                Traceback (most recent call last)",
      "Cell \u001B[0;32mIn[3], line 13\u001B[0m\n\u001B[1;32m     10\u001B[0m han_data \u001B[38;5;241m=\u001B[39m pd\u001B[38;5;241m.\u001B[39mread_csv(\u001B[38;5;124m'\u001B[39m\u001B[38;5;124mhan.csv\u001B[39m\u001B[38;5;124m'\u001B[39m, encoding\u001B[38;5;241m=\u001B[39m\u001B[38;5;124m'\u001B[39m\u001B[38;5;124mcp949\u001B[39m\u001B[38;5;124m'\u001B[39m)\n\u001B[1;32m     12\u001B[0m \u001B[38;5;66;03m# 날짜 처리\u001B[39;00m\n\u001B[0;32m---> 13\u001B[0m il_data[\u001B[38;5;124m'\u001B[39m\u001B[38;5;124m날짜\u001B[39m\u001B[38;5;124m'\u001B[39m] \u001B[38;5;241m=\u001B[39m pd\u001B[38;5;241m.\u001B[39mto_datetime(il_data[\u001B[38;5;124m'\u001B[39m\u001B[38;5;124m날짜\u001B[39m\u001B[38;5;124m'\u001B[39m])\n\u001B[1;32m     14\u001B[0m yeol_data[\u001B[38;5;124m'\u001B[39m\u001B[38;5;124m날짜\u001B[39m\u001B[38;5;124m'\u001B[39m] \u001B[38;5;241m=\u001B[39m pd\u001B[38;5;241m.\u001B[39mto_datetime(yeol_data[\u001B[38;5;124m'\u001B[39m\u001B[38;5;124m날짜\u001B[39m\u001B[38;5;124m'\u001B[39m])\n\u001B[1;32m     15\u001B[0m han_data[\u001B[38;5;124m'\u001B[39m\u001B[38;5;124m날짜\u001B[39m\u001B[38;5;124m'\u001B[39m] \u001B[38;5;241m=\u001B[39m pd\u001B[38;5;241m.\u001B[39mto_datetime(han_data[\u001B[38;5;124m'\u001B[39m\u001B[38;5;124m날짜\u001B[39m\u001B[38;5;124m'\u001B[39m])\n",
      "File \u001B[0;32m~/anaconda3/envs/MY_311/lib/python3.11/site-packages/pandas/core/tools/datetimes.py:1067\u001B[0m, in \u001B[0;36mto_datetime\u001B[0;34m(arg, errors, dayfirst, yearfirst, utc, format, exact, unit, infer_datetime_format, origin, cache)\u001B[0m\n\u001B[1;32m   1065\u001B[0m         result \u001B[38;5;241m=\u001B[39m arg\u001B[38;5;241m.\u001B[39mmap(cache_array)\n\u001B[1;32m   1066\u001B[0m     \u001B[38;5;28;01melse\u001B[39;00m:\n\u001B[0;32m-> 1067\u001B[0m         values \u001B[38;5;241m=\u001B[39m convert_listlike(arg\u001B[38;5;241m.\u001B[39m_values, \u001B[38;5;28mformat\u001B[39m)\n\u001B[1;32m   1068\u001B[0m         result \u001B[38;5;241m=\u001B[39m arg\u001B[38;5;241m.\u001B[39m_constructor(values, index\u001B[38;5;241m=\u001B[39marg\u001B[38;5;241m.\u001B[39mindex, name\u001B[38;5;241m=\u001B[39marg\u001B[38;5;241m.\u001B[39mname)\n\u001B[1;32m   1069\u001B[0m \u001B[38;5;28;01melif\u001B[39;00m \u001B[38;5;28misinstance\u001B[39m(arg, (ABCDataFrame, abc\u001B[38;5;241m.\u001B[39mMutableMapping)):\n",
      "File \u001B[0;32m~/anaconda3/envs/MY_311/lib/python3.11/site-packages/pandas/core/tools/datetimes.py:433\u001B[0m, in \u001B[0;36m_convert_listlike_datetimes\u001B[0;34m(arg, format, name, utc, unit, errors, dayfirst, yearfirst, exact)\u001B[0m\n\u001B[1;32m    431\u001B[0m \u001B[38;5;66;03m# `format` could be inferred, or user didn't ask for mixed-format parsing.\u001B[39;00m\n\u001B[1;32m    432\u001B[0m \u001B[38;5;28;01mif\u001B[39;00m \u001B[38;5;28mformat\u001B[39m \u001B[38;5;129;01mis\u001B[39;00m \u001B[38;5;129;01mnot\u001B[39;00m \u001B[38;5;28;01mNone\u001B[39;00m \u001B[38;5;129;01mand\u001B[39;00m \u001B[38;5;28mformat\u001B[39m \u001B[38;5;241m!=\u001B[39m \u001B[38;5;124m\"\u001B[39m\u001B[38;5;124mmixed\u001B[39m\u001B[38;5;124m\"\u001B[39m:\n\u001B[0;32m--> 433\u001B[0m     \u001B[38;5;28;01mreturn\u001B[39;00m _array_strptime_with_fallback(arg, name, utc, \u001B[38;5;28mformat\u001B[39m, exact, errors)\n\u001B[1;32m    435\u001B[0m result, tz_parsed \u001B[38;5;241m=\u001B[39m objects_to_datetime64(\n\u001B[1;32m    436\u001B[0m     arg,\n\u001B[1;32m    437\u001B[0m     dayfirst\u001B[38;5;241m=\u001B[39mdayfirst,\n\u001B[0;32m   (...)\u001B[0m\n\u001B[1;32m    441\u001B[0m     allow_object\u001B[38;5;241m=\u001B[39m\u001B[38;5;28;01mTrue\u001B[39;00m,\n\u001B[1;32m    442\u001B[0m )\n\u001B[1;32m    444\u001B[0m \u001B[38;5;28;01mif\u001B[39;00m tz_parsed \u001B[38;5;129;01mis\u001B[39;00m \u001B[38;5;129;01mnot\u001B[39;00m \u001B[38;5;28;01mNone\u001B[39;00m:\n\u001B[1;32m    445\u001B[0m     \u001B[38;5;66;03m# We can take a shortcut since the datetime64 numpy array\u001B[39;00m\n\u001B[1;32m    446\u001B[0m     \u001B[38;5;66;03m# is in UTC\u001B[39;00m\n",
      "File \u001B[0;32m~/anaconda3/envs/MY_311/lib/python3.11/site-packages/pandas/core/tools/datetimes.py:467\u001B[0m, in \u001B[0;36m_array_strptime_with_fallback\u001B[0;34m(arg, name, utc, fmt, exact, errors)\u001B[0m\n\u001B[1;32m    456\u001B[0m \u001B[38;5;28;01mdef\u001B[39;00m \u001B[38;5;21m_array_strptime_with_fallback\u001B[39m(\n\u001B[1;32m    457\u001B[0m     arg,\n\u001B[1;32m    458\u001B[0m     name,\n\u001B[0;32m   (...)\u001B[0m\n\u001B[1;32m    462\u001B[0m     errors: \u001B[38;5;28mstr\u001B[39m,\n\u001B[1;32m    463\u001B[0m ) \u001B[38;5;241m-\u001B[39m\u001B[38;5;241m>\u001B[39m Index:\n\u001B[1;32m    464\u001B[0m \u001B[38;5;250m    \u001B[39m\u001B[38;5;124;03m\"\"\"\u001B[39;00m\n\u001B[1;32m    465\u001B[0m \u001B[38;5;124;03m    Call array_strptime, with fallback behavior depending on 'errors'.\u001B[39;00m\n\u001B[1;32m    466\u001B[0m \u001B[38;5;124;03m    \"\"\"\u001B[39;00m\n\u001B[0;32m--> 467\u001B[0m     result, tz_out \u001B[38;5;241m=\u001B[39m array_strptime(arg, fmt, exact\u001B[38;5;241m=\u001B[39mexact, errors\u001B[38;5;241m=\u001B[39merrors, utc\u001B[38;5;241m=\u001B[39mutc)\n\u001B[1;32m    468\u001B[0m     \u001B[38;5;28;01mif\u001B[39;00m tz_out \u001B[38;5;129;01mis\u001B[39;00m \u001B[38;5;129;01mnot\u001B[39;00m \u001B[38;5;28;01mNone\u001B[39;00m:\n\u001B[1;32m    469\u001B[0m         unit \u001B[38;5;241m=\u001B[39m np\u001B[38;5;241m.\u001B[39mdatetime_data(result\u001B[38;5;241m.\u001B[39mdtype)[\u001B[38;5;241m0\u001B[39m]\n",
      "File \u001B[0;32mstrptime.pyx:501\u001B[0m, in \u001B[0;36mpandas._libs.tslibs.strptime.array_strptime\u001B[0;34m()\u001B[0m\n",
      "File \u001B[0;32mstrptime.pyx:451\u001B[0m, in \u001B[0;36mpandas._libs.tslibs.strptime.array_strptime\u001B[0;34m()\u001B[0m\n",
      "File \u001B[0;32mstrptime.pyx:583\u001B[0m, in \u001B[0;36mpandas._libs.tslibs.strptime._parse_with_format\u001B[0;34m()\u001B[0m\n",
      "\u001B[0;31mValueError\u001B[0m: time data \"\t\" doesn't match format \"\t%Y-%m-%d\", at position 42030. You might want to try:\n    - passing `format` if your strings have a consistent format;\n    - passing `format='ISO8601'` if your strings are all ISO8601 but not necessarily in exactly the same format;\n    - passing `format='mixed'`, and the format will be inferred for each element individually. You might want to use `dayfirst` alongside this."
     ]
    }
   ],
   "source": [
    "# 필요한 라이브러리 재로드\n",
    "import pandas as pd\n",
    "import matplotlib.pyplot as plt\n",
    "import seaborn as sns\n",
    "\n",
    "# 데이터 불러오기\n",
    "il_data = pd.read_csv('il.csv', encoding='cp949')\n",
    "hot_days_annual = pd.read_csv('폭염전처리.csv')\n",
    "yeol_data = pd.read_csv('yeol.csv', encoding='cp949')\n",
    "han_data = pd.read_csv('han.csv', encoding='cp949')\n",
    "\n",
    "# 날짜 처리\n",
    "il_data['날짜'] = pd.to_datetime(il_data['날짜'])\n",
    "yeol_data['날짜'] = pd.to_datetime(yeol_data['날짜'])\n",
    "han_data['날짜'] = pd.to_datetime(han_data['날짜'])\n",
    "\n",
    "# 연도 추출\n",
    "il_data['년'] = il_data['날짜'].dt.year\n",
    "yeol_data['년'] = yeol_data['날짜'].dt.year\n",
    "han_data['년'] = han_data['날짜'].dt.year\n",
    "\n",
    "# 연간 데이터 집계\n",
    "annual_avg_temp = il_data.groupby('년')['평균기온(℃)'].mean()\n",
    "yeol_annual = yeol_data.groupby('년').size()\n",
    "han_annual = han_data.groupby('년').size()\n",
    "\n",
    "# 연간 평균 기온 꺾은 선 그래프 작성\n",
    "plt.figure(figsize=(14, 6))\n",
    "plt.plot(annual_avg_temp.index, annual_avg_temp.values, marker='o', linestyle='-', color='blue')\n",
    "plt.title('연간 평균 기온')\n",
    "plt.xlabel('연도')\n",
    "plt.ylabel('평균 기온(℃)')\n",
    "plt.grid(True)\n",
    "plt.show()\n",
    "\n",
    "# 연간 히스토그램 작성 (폭염, 열대야, 한파)\n",
    "fig, ax = plt.subplots(3, 1, figsize=(10, 15))\n",
    "ax[0].bar(hot_days_annual['년'], hot_days_annual['폭염일수'], color='red')\n",
    "ax[0].set_title('연간 폭염 일수')\n",
    "ax[0].set_xlabel('연도')\n",
    "ax[0].set_ylabel('일수')\n",
    "\n",
    "ax[1].bar(yeol_annual.index, yeol_annual.values, color='orange')\n",
    "ax[1].set_title('연간 열대야 일수')\n",
    "ax[1].set_xlabel('연도')\n",
    "ax[1].set_ylabel('일수')\n",
    "\n",
    "ax[2].bar(han_annual.index, han_annual.values, color='cyan')\n",
    "ax[2].set_title('연간 한파 일수')\n",
    "ax[2].set_xlabel('연도')\n",
    "ax[2].set_ylabel('일수')\n",
    "\n",
    "plt.tight_layout()\n",
    "plt.show()\n",
    "\n",
    "# 연간 열대야와 한파 일수를 함께 보는 히트맵\n",
    "# 열대야와 한파 데이터 병합\n",
    "annual_heatmap_data = pd.DataFrame({\n",
    "    '열대야일수': yeol_annual,\n",
    "    '한파일수': han_annual\n",
    "}).fillna(0)\n",
    "\n",
    "# 히트맵 생성\n",
    "plt.figure(figsize=(10, 8))\n",
    "sns.heatmap(annual_heatmap_data, annot=True, cmap='coolwarm', fmt='g')\n",
    "plt.title('연간 열대야 및 한파 일수')\n",
    "plt.xlabel('일수')\n",
    "plt.ylabel('연도')\n",
    "plt.show()\n"
   ],
   "metadata": {
    "collapsed": false,
    "ExecuteTime": {
     "end_time": "2024-02-21T09:32:55.958419Z",
     "start_time": "2024-02-21T09:32:55.862741Z"
    }
   },
   "id": "7febf1f2f03f7e40",
   "execution_count": 3
  },
  {
   "cell_type": "code",
   "outputs": [],
   "source": [],
   "metadata": {
    "collapsed": false
   },
   "id": "3e8af401a9c6d4d9"
  }
 ],
 "metadata": {
  "kernelspec": {
   "display_name": "Python 3",
   "language": "python",
   "name": "python3"
  },
  "language_info": {
   "codemirror_mode": {
    "name": "ipython",
    "version": 2
   },
   "file_extension": ".py",
   "mimetype": "text/x-python",
   "name": "python",
   "nbconvert_exporter": "python",
   "pygments_lexer": "ipython2",
   "version": "2.7.6"
  }
 },
 "nbformat": 4,
 "nbformat_minor": 5
}
